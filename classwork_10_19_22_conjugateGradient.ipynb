{
 "cells": [
  {
   "cell_type": "code",
   "execution_count": 2,
   "metadata": {},
   "outputs": [],
   "source": [
    "#10/19 classwork\n",
    "import numpy as np\n",
    "\n",
    "def cg(x0,M,A,b):   #conjugate gradient method\n",
    "    x = np.copy(x0)\n",
    "    r = b - np.matmul(A,x)\n",
    "    v = r\n",
    "\n",
    "    for k in range(M):\n",
    "        # so we don't have to compute these multiple times\n",
    "        Av = np.matmul(A,v)\n",
    "        rr = np.vdot(r,r)\n",
    "\n",
    "        t = rr/np.vdot(v,Av)\n",
    "        x += t*v\n",
    "        r -= t*Av\n",
    "        s = np.vdot(r,r)/rr\n",
    "        v = r + s*v\n",
    "\n",
    "    return x\n",
    "\n",
    "\n"
   ]
  },
  {
   "cell_type": "code",
   "execution_count": 7,
   "metadata": {},
   "outputs": [
    {
     "name": "stdout",
     "output_type": "stream",
     "text": [
      "False\n"
     ]
    }
   ],
   "source": [
    "n = 100\n",
    "A = np.zeros((n,n))\n",
    "b = np.zeros((n,1))\n",
    "\n",
    "for i in range(n):\n",
    "    A[i,i] = 4\n",
    "    if i>0:\n",
    "        A[i,i-1] = -1\n",
    "    if i<n-1:\n",
    "        A[i,i+1] = -1\n",
    "\n",
    "    b[i] = 0.01 * np.sin(0.04*np.pi*i)\n",
    "\n",
    "x0 = np.zeros((n,1))\n",
    "x = cg(x0,2,A,b)\n",
    "print(np.allclose(np.matmul(A,x),b))\n"
   ]
  }
 ],
 "metadata": {
  "kernelspec": {
   "display_name": "Python 3.8.0 64-bit",
   "language": "python",
   "name": "python3"
  },
  "language_info": {
   "codemirror_mode": {
    "name": "ipython",
    "version": 3
   },
   "file_extension": ".py",
   "mimetype": "text/x-python",
   "name": "python",
   "nbconvert_exporter": "python",
   "pygments_lexer": "ipython3",
   "version": "3.8.0"
  },
  "orig_nbformat": 4,
  "vscode": {
   "interpreter": {
    "hash": "aee8b7b246df8f9039afb4144a1f6fd8d2ca17a180786b69acc140d282b71a49"
   }
  }
 },
 "nbformat": 4,
 "nbformat_minor": 2
}
