{
 "cells": [
  {
   "cell_type": "markdown",
   "metadata": {},
   "source": [
    "## Problem 13\n",
    "### A)"
   ]
  },
  {
   "cell_type": "code",
   "execution_count": 97,
   "metadata": {},
   "outputs": [],
   "source": [
    "import numpy as np\n",
    "import math\n",
    "import matplotlib.pyplot as plt"
   ]
  },
  {
   "cell_type": "code",
   "execution_count": 96,
   "metadata": {},
   "outputs": [],
   "source": [
    "def create_L_matrix(n):\n",
    "    L = np.identity(n=n)\n",
    "    return L\n",
    "\n",
    "def create_U_matrix(n):\n",
    "    U = np.zeros((n,n))\n",
    "    return U\n",
    "\n",
    "def hilbert(n):\n",
    "    x = np.arange(1, n+1) + np.arange(0, n)[:, np.newaxis] \n",
    "    return 1.0/x\n",
    "\n",
    "def lu_decomp(A):\n",
    "    n = len(A)\n",
    "\n",
    "    L = create_L_matrix(n)\n",
    "    U = create_U_matrix(n)\n",
    "\n",
    "\n",
    "    for k in range(0,n):\n",
    "        # Ukk\n",
    "        temp_sum_ukk = 0\n",
    "        for s in range(0,k):\n",
    "            temp_sum_ukk += L[k,s]*U[s,k]\n",
    "\n",
    "        U[k,k] = A[k,k] - temp_sum_ukk\n",
    "\n",
    "        #Ukj\n",
    "        for j in range(k+1,n):\n",
    "            temp_sum_ukj = 0\n",
    "            for s in range(0,k):\n",
    "                temp_sum_ukj += L[k,s]*U[s,j]\n",
    "\n",
    "            U[k,j] = A[k,j] - temp_sum_ukj\n",
    "\n",
    "        #Lik\n",
    "        for i in range(k+1,n):\n",
    "            temp_sum_lik = 0\n",
    "            for s in range(0,k):\n",
    "                temp_sum_lik += L[i,s]*U[s,k]\n",
    "\n",
    "            L[i,k] = (1/U[k,k])*(A[i,k] - temp_sum_lik)\n",
    "\n",
    "    return L,U\n",
    "\n",
    "\n"
   ]
  },
  {
   "cell_type": "code",
   "execution_count": 98,
   "metadata": {},
   "outputs": [
    {
     "name": "stdout",
     "output_type": "stream",
     "text": [
      "L: \n",
      "[[1.                 0.                 0.\n",
      "  0.                ]\n",
      " [0.5                1.                 0.\n",
      "  0.                ]\n",
      " [0.3333333333333333 1.0000000000000004 1.\n",
      "  0.                ]\n",
      " [0.25               0.9000000000000004 1.4999999999999951\n",
      "  1.                ]]\n",
      "\n",
      "\n",
      "U:\n",
      "[[1.000000000000000e+00 5.000000000000000e-01 3.333333333333333e-01\n",
      "  2.500000000000000e-01]\n",
      " [0.000000000000000e+00 8.333333333333331e-02 8.333333333333334e-02\n",
      "  7.500000000000001e-02]\n",
      " [0.000000000000000e+00 0.000000000000000e+00 5.555555555555536e-03\n",
      "  8.333333333333276e-03]\n",
      " [0.000000000000000e+00 0.000000000000000e+00 0.000000000000000e+00\n",
      "  3.571428571429447e-04]]\n"
     ]
    }
   ],
   "source": [
    "A = hilbert(4)\n",
    "\n",
    "results = lu_decomp(A)\n",
    "\n",
    "print(\"L: \")\n",
    "print(results[0])\n",
    "print()\n",
    "print()\n",
    "print('U:')\n",
    "print(results[1])\n",
    "np.set_printoptions(precision=55)\n",
    "\n"
   ]
  },
  {
   "cell_type": "markdown",
   "metadata": {},
   "source": [
    "### B)"
   ]
  },
  {
   "cell_type": "code",
   "execution_count": 99,
   "metadata": {},
   "outputs": [],
   "source": [
    "from audioop import reverse\n",
    "\n",
    "\n",
    "def forwardSub(L,b):\n",
    "    L_inv = np.linalg.inv(L)\n",
    "    y = np.matmul(L_inv,b)\n",
    "    return y\n",
    "\n",
    "def backwardsSub(U,y):\n",
    "    #x = np.zeros((len(U),1))\n",
    "    #print(x)\n",
    "    #for i in reversed(range(0,len(U))):\n",
    "        #temp_sum = 0\n",
    "        #for j in range(i+1,len(U)):\n",
    "            #print('i: '+str(i)+'  j: '+str(j))\n",
    "            #temp_sum += x[j]/U[i,j]\n",
    "        #x[i][0] = (y[i]-temp_sum)/U[i,i]\n",
    "        \n",
    "\n",
    "\n",
    "    U_inv = np.linalg.inv(U)\n",
    "    x = np.matmul(U_inv,y)\n",
    "    return x"
   ]
  },
  {
   "cell_type": "code",
   "execution_count": 101,
   "metadata": {},
   "outputs": [
    {
     "name": "stdout",
     "output_type": "stream",
     "text": [
      "Forward substitution results   y: \n",
      "[[1.                ]\n",
      " [1.5               ]\n",
      " [1.166666666666666 ]\n",
      " [0.6500000000000048]]\n",
      "\n",
      "Backwards substitution results  x: \n",
      "[[  -63.999999999977085]\n",
      " [  899.9999999997318  ]\n",
      " [-2519.999999999342   ]\n",
      " [ 1819.9999999995673  ]]\n"
     ]
    }
   ],
   "source": [
    "A = hilbert(4)\n",
    "b = np.matrix([[1],[2],[3],[4]])\n",
    "\n",
    "results = lu_decomp(A)\n",
    "\n",
    "\n",
    "y = forwardSub(results[0],b)\n",
    "print('Forward substitution results   y: ')\n",
    "print(y)\n",
    "print()\n",
    "\n",
    "x = backwardsSub(results[1],y)\n",
    "print('Backwards substitution results  x: ')\n",
    "print(x)"
   ]
  },
  {
   "cell_type": "markdown",
   "metadata": {},
   "source": [
    "### C)"
   ]
  },
  {
   "cell_type": "code",
   "execution_count": 105,
   "metadata": {},
   "outputs": [
    {
     "name": "stdout",
     "output_type": "stream",
     "text": [
      "Ab = x where x equals:\n",
      "[[1.0000000000001137]\n",
      " [2.                ]\n",
      " [3.                ]\n",
      " [3.999999999999943 ]]\n"
     ]
    }
   ],
   "source": [
    "A = hilbert(4)\n",
    "\n",
    "checking = np.matmul(A,x)\n",
    "print('Ab = x where x equals:')\n",
    "print(checking)"
   ]
  },
  {
   "cell_type": "markdown",
   "metadata": {},
   "source": [
    "As we can see the outcome of the matrix multiplication of matrix A with the solution vector x gives us with in a reasonable range for the true value of b."
   ]
  }
 ],
 "metadata": {
  "kernelspec": {
   "display_name": "Python 3",
   "language": "python",
   "name": "python3"
  },
  "language_info": {
   "codemirror_mode": {
    "name": "ipython",
    "version": 3
   },
   "file_extension": ".py",
   "mimetype": "text/x-python",
   "name": "python",
   "nbconvert_exporter": "python",
   "pygments_lexer": "ipython3",
   "version": "3.8.0"
  },
  "vscode": {
   "interpreter": {
    "hash": "aee8b7b246df8f9039afb4144a1f6fd8d2ca17a180786b69acc140d282b71a49"
   }
  }
 },
 "nbformat": 4,
 "nbformat_minor": 2
}
