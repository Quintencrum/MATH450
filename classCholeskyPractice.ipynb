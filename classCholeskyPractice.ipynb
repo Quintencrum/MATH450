{
 "cells": [
  {
   "cell_type": "code",
   "execution_count": 6,
   "metadata": {},
   "outputs": [
    {
     "name": "stderr",
     "output_type": "stream",
     "text": [
      "/var/folders/r8/869yk6lx1wz6mkdw773ysncw0000gn/T/ipykernel_94600/1230710431.py:19: RuntimeWarning: invalid value encountered in sqrt\n",
      "  L[k,k] = np.sqrt(L[k,k])\n"
     ]
    },
    {
     "ename": "TypeError",
     "evalue": "NumPy boolean array indexing assignment requires a 0 or 1-dimensional input, input has 2 dimensions",
     "output_type": "error",
     "traceback": [
      "\u001b[0;31m---------------------------------------------------------------------------\u001b[0m",
      "\u001b[0;31mTypeError\u001b[0m                                 Traceback (most recent call last)",
      "Cell \u001b[0;32mIn [6], line 36\u001b[0m\n\u001b[1;32m     33\u001b[0m L \u001b[38;5;241m=\u001b[39m cholesky(A)\n\u001b[1;32m     35\u001b[0m LT \u001b[38;5;241m=\u001b[39m L\u001b[38;5;241m.\u001b[39mtranspose()\n\u001b[0;32m---> 36\u001b[0m \u001b[38;5;28mprint\u001b[39m(\u001b[43mnp\u001b[49m\u001b[38;5;241;43m.\u001b[39;49m\u001b[43mallclose\u001b[49m\u001b[43m(\u001b[49m\u001b[43mL\u001b[49m\u001b[38;5;241;43m*\u001b[39;49m\u001b[43mLT\u001b[49m\u001b[43m,\u001b[49m\u001b[43mA\u001b[49m\u001b[43m)\u001b[49m)\n",
      "File \u001b[0;32m<__array_function__ internals>:5\u001b[0m, in \u001b[0;36mallclose\u001b[0;34m(*args, **kwargs)\u001b[0m\n",
      "File \u001b[0;32m/Library/Frameworks/Python.framework/Versions/3.8/lib/python3.8/site-packages/numpy/core/numeric.py:2171\u001b[0m, in \u001b[0;36mallclose\u001b[0;34m(a, b, rtol, atol, equal_nan)\u001b[0m\n\u001b[1;32m   2103\u001b[0m \u001b[39m@array_function_dispatch\u001b[39m(_allclose_dispatcher)\n\u001b[1;32m   2104\u001b[0m \u001b[39mdef\u001b[39;00m \u001b[39mallclose\u001b[39m(a, b, rtol\u001b[39m=\u001b[39m\u001b[39m1.e-5\u001b[39m, atol\u001b[39m=\u001b[39m\u001b[39m1.e-8\u001b[39m, equal_nan\u001b[39m=\u001b[39m\u001b[39mFalse\u001b[39;00m):\n\u001b[1;32m   2105\u001b[0m     \u001b[39m\"\"\"\u001b[39;00m\n\u001b[1;32m   2106\u001b[0m \u001b[39m    Returns True if two arrays are element-wise equal within a tolerance.\u001b[39;00m\n\u001b[1;32m   2107\u001b[0m \n\u001b[0;32m   (...)\u001b[0m\n\u001b[1;32m   2169\u001b[0m \n\u001b[1;32m   2170\u001b[0m \u001b[39m    \"\"\"\u001b[39;00m\n\u001b[0;32m-> 2171\u001b[0m     res \u001b[39m=\u001b[39m \u001b[39mall\u001b[39m(isclose(a, b, rtol\u001b[39m=\u001b[39;49mrtol, atol\u001b[39m=\u001b[39;49matol, equal_nan\u001b[39m=\u001b[39;49mequal_nan))\n\u001b[1;32m   2172\u001b[0m     \u001b[39mreturn\u001b[39;00m \u001b[39mbool\u001b[39m(res)\n",
      "File \u001b[0;32m<__array_function__ internals>:5\u001b[0m, in \u001b[0;36misclose\u001b[0;34m(*args, **kwargs)\u001b[0m\n",
      "File \u001b[0;32m/Library/Frameworks/Python.framework/Versions/3.8/lib/python3.8/site-packages/numpy/core/numeric.py:2282\u001b[0m, in \u001b[0;36misclose\u001b[0;34m(a, b, rtol, atol, equal_nan)\u001b[0m\n\u001b[1;32m   2280\u001b[0m y \u001b[39m=\u001b[39m y \u001b[39m*\u001b[39m ones_like(cond)\n\u001b[1;32m   2281\u001b[0m \u001b[39m# Avoid subtraction with infinite/nan values...\u001b[39;00m\n\u001b[0;32m-> 2282\u001b[0m cond[finite] \u001b[39m=\u001b[39m within_tol(x[finite], y[finite], atol, rtol)\n\u001b[1;32m   2283\u001b[0m \u001b[39m# Check for equality of infinite values...\u001b[39;00m\n\u001b[1;32m   2284\u001b[0m cond[\u001b[39m~\u001b[39mfinite] \u001b[39m=\u001b[39m (x[\u001b[39m~\u001b[39mfinite] \u001b[39m==\u001b[39m y[\u001b[39m~\u001b[39mfinite])\n",
      "\u001b[0;31mTypeError\u001b[0m: NumPy boolean array indexing assignment requires a 0 or 1-dimensional input, input has 2 dimensions"
     ]
    }
   ],
   "source": [
    "import numpy as np\n",
    "#import scipy as sp #for hilbert\n",
    "\n",
    "def hilbert(n):\n",
    "    x = np.arange(1, n+1) + np.arange(0, n)[:, np.newaxis]\n",
    "    return 1.0/x\n",
    "\n",
    "\n",
    "def cholesky(A):\n",
    "    n = A.shape[0]\n",
    "    L = np.asmatrix(np.zeros((n,n)))\n",
    "\n",
    "    for k in range(0,n):\n",
    "        #compute diagonal\n",
    "        L[k,k] = A[k,k]\n",
    "        \n",
    "        for s in range(0,k):\n",
    "            L[k,k] -= L[k,s]**2\n",
    "        L[k,k] = np.sqrt(L[k,k])\n",
    "\n",
    "        #compute all L_ik\n",
    "        for i in range(k+1,n):\n",
    "            L[i,k] = A[i,k]\n",
    "            \n",
    "            for s in range(0,k): \n",
    "                L[i,s] -= L[i,s]*L[k,s]\n",
    "            L[i,k] /= L[k,k]\n",
    "\n",
    "    return L\n",
    "\n",
    "\n",
    "A = np.asmatrix(hilbert(4))\n",
    "L = cholesky(A)\n",
    "\n",
    "LT = L.transpose()\n",
    "print(np.allclose(L*LT,A))"
   ]
  }
 ],
 "metadata": {
  "kernelspec": {
   "display_name": "Python 3.8.0 64-bit",
   "language": "python",
   "name": "python3"
  },
  "language_info": {
   "codemirror_mode": {
    "name": "ipython",
    "version": 3
   },
   "file_extension": ".py",
   "mimetype": "text/x-python",
   "name": "python",
   "nbconvert_exporter": "python",
   "pygments_lexer": "ipython3",
   "version": "3.8.0"
  },
  "orig_nbformat": 4,
  "vscode": {
   "interpreter": {
    "hash": "aee8b7b246df8f9039afb4144a1f6fd8d2ca17a180786b69acc140d282b71a49"
   }
  }
 },
 "nbformat": 4,
 "nbformat_minor": 2
}
