{
 "cells": [
  {
   "cell_type": "code",
   "execution_count": 1,
   "metadata": {},
   "outputs": [
    {
     "name": "stdout",
     "output_type": "stream",
     "text": [
      "[[ 2 -3  1]\n",
      " [ 0  1  2]\n",
      " [ 2  0 -1]]\n",
      "[[4]\n",
      " [5]\n",
      " [8]]\n",
      "[[ 2 -3  1]\n",
      " [ 0  1  2]\n",
      " [ 2  0 -1]]\n"
     ]
    }
   ],
   "source": [
    "import numpy as np\n",
    "\n",
    "\n",
    "a = np.matrix([[2, -3, 1], [0, 1, 2], [2, 0, -1]])\n",
    "b = np.matrix([[4], [5], [8]])\n",
    "\n",
    "print(a)\n",
    "print(b)\n",
    "\n",
    "\n",
    "### Elementary operations\n",
    "\n",
    "E = a.copy()\n",
    "\n",
    "\n"
   ]
  }
 ],
 "metadata": {
  "kernelspec": {
   "display_name": "Python 3.8.0 64-bit",
   "language": "python",
   "name": "python3"
  },
  "language_info": {
   "codemirror_mode": {
    "name": "ipython",
    "version": 3
   },
   "file_extension": ".py",
   "mimetype": "text/x-python",
   "name": "python",
   "nbconvert_exporter": "python",
   "pygments_lexer": "ipython3",
   "version": "3.8.0"
  },
  "orig_nbformat": 4,
  "vscode": {
   "interpreter": {
    "hash": "aee8b7b246df8f9039afb4144a1f6fd8d2ca17a180786b69acc140d282b71a49"
   }
  }
 },
 "nbformat": 4,
 "nbformat_minor": 2
}
